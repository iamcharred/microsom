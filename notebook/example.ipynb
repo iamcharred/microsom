{
 "cells": [
  {
   "cell_type": "code",
   "execution_count": 1,
   "metadata": {},
   "outputs": [],
   "source": [
    "import numpy as np\n",
    "import time\n",
    "import sys\n",
    "import matplotlib.pyplot as plt\n",
    "\n",
    "sys.path.append('../src')\n",
    "import microsom as msom\n"
   ]
  },
  {
   "cell_type": "code",
   "execution_count": 2,
   "metadata": {},
   "outputs": [],
   "source": [
    "random_seed = 40\n",
    "np.random.seed(random_seed)"
   ]
  },
  {
   "cell_type": "code",
   "execution_count": 3,
   "metadata": {},
   "outputs": [
    {
     "data": {
      "text/plain": [
       "array([[0.40768703, 0.05536604, 0.78853488],\n",
       "       [0.28730518, 0.45035059, 0.30391231],\n",
       "       [0.52639952, 0.62381221, 0.77677546],\n",
       "       [0.68624165, 0.98093886, 0.60081609],\n",
       "       [0.81396852, 0.70864515, 0.02753468],\n",
       "       [0.90426722, 0.44990485, 0.11892465],\n",
       "       [0.83530018, 0.20224823, 0.17420267],\n",
       "       [0.44914708, 0.66979478, 0.95739911],\n",
       "       [0.83333325, 0.50830996, 0.63002355],\n",
       "       [0.83503469, 0.44733165, 0.76229047],\n",
       "       [0.63692224, 0.36229589, 0.01457455],\n",
       "       [0.54198489, 0.31815548, 0.14499035],\n",
       "       [0.54889195, 0.18748127, 0.39898148],\n",
       "       [0.24003821, 0.03665485, 0.56854476],\n",
       "       [0.9227648 , 0.17905511, 0.70307767],\n",
       "       [0.7200128 , 0.03106402, 0.58282531],\n",
       "       [0.6976776 , 0.90985347, 0.96669799],\n",
       "       [0.83572953, 0.95112137, 0.50632553],\n",
       "       [0.19449838, 0.06964475, 0.92579567],\n",
       "       [0.39132648, 0.40817073, 0.17090505]])"
      ]
     },
     "execution_count": 3,
     "metadata": {},
     "output_type": "execute_result"
    }
   ],
   "source": [
    "# Generate Data\n",
    "input_data = np.random.random((20,3))\n",
    "input_data"
   ]
  },
  {
   "cell_type": "code",
   "execution_count": 4,
   "metadata": {},
   "outputs": [],
   "source": [
    "# write input_data to file\n",
    "np.savetxt('../data/input_data.txt', input_data)"
   ]
  },
  {
   "cell_type": "code",
   "execution_count": 5,
   "metadata": {},
   "outputs": [],
   "source": [
    "# load input_data from file\n",
    "input_data = np.loadtxt('../data/input_data.txt')"
   ]
  },
  {
   "cell_type": "markdown",
   "metadata": {},
   "source": [
    "EDA"
   ]
  },
  {
   "cell_type": "code",
   "execution_count": 6,
   "metadata": {},
   "outputs": [
    {
     "data": {
      "text/plain": [
       "<matplotlib.image.AxesImage at 0x11ec5f610>"
      ]
     },
     "execution_count": 6,
     "metadata": {},
     "output_type": "execute_result"
    },
    {
     "data": {
      "image/png": "[encoded data removed]",
      "text/plain": [
       "<Figure size 432x288 with 1 Axes>"
      ]
     },
     "metadata": {
      "needs_background": "light"
     },
     "output_type": "display_data"
    }
   ],
   "source": [
    "\n",
    "plt.imshow(input_data)"
   ]
  },
  {
   "cell_type": "code",
   "execution_count": 7,
   "metadata": {},
   "outputs": [
    {
     "data": {
      "text/plain": [
       "<matplotlib.image.AxesImage at 0x11ed50e80>"
      ]
     },
     "execution_count": 7,
     "metadata": {},
     "output_type": "execute_result"
    },
    {
     "data": {
      "image/png": "[encoded data removed]",
      "text/plain": [
       "<Figure size 432x288 with 1 Axes>"
      ]
     },
     "metadata": {
      "needs_background": "light"
     },
     "output_type": "display_data"
    }
   ],
   "source": [
    "test_data = np.array([input_data])\n",
    "plt.imshow(test_data)"
   ]
  },
  {
   "cell_type": "code",
   "execution_count": 8,
   "metadata": {},
   "outputs": [
    {
     "name": "stdout",
     "output_type": "stream",
     "text": [
      "20\n",
      "3\n"
     ]
    }
   ],
   "source": [
    "n, d = len(input_data), len(input_data[0])\n",
    "print(n)\n",
    "print(d)"
   ]
  },
  {
   "cell_type": "code",
   "execution_count": 9,
   "metadata": {},
   "outputs": [],
   "source": [
    "x = 10\n",
    "y = 10\n",
    "epochs = 100\n",
    "learning_rate = 0.1"
   ]
  },
  {
   "cell_type": "code",
   "execution_count": 10,
   "metadata": {},
   "outputs": [],
   "source": [
    "kohosom = msom.SOM(x=x, y=y, num_dim=d, learning_rate=learning_rate, random_seed=42)"
   ]
  },
  {
   "cell_type": "code",
   "execution_count": 11,
   "metadata": {},
   "outputs": [
    {
     "name": "stdout",
     "output_type": "stream",
     "text": [
      "total iterations  2000\n",
      "num epochs 100\n"
     ]
    }
   ],
   "source": [
    "start_time = time.time()\n",
    "kohosom.train(input_data, epochs, verbose=False)"
   ]
  },
  {
   "cell_type": "code",
   "execution_count": 12,
   "metadata": {},
   "outputs": [
    {
     "name": "stdout",
     "output_type": "stream",
     "text": [
      "Training duration: 0.06378507614135742 seconds\n",
      "10 10 3 100 5.0 0.1\n"
     ]
    }
   ],
   "source": [
    "end_time = time.time()\n",
    "duration = end_time - start_time\n",
    "sigma = kohosom.sigma\n",
    "learning_rate = kohosom.learning_rate\n",
    "x, y = kohosom.map_size\n",
    "print(\"Training duration:\", duration, \"seconds\")\n",
    "print(x,y,d,epochs,sigma,learning_rate)"
   ]
  },
  {
   "cell_type": "markdown",
   "metadata": {},
   "source": [
    "Visualization"
   ]
  },
  {
   "cell_type": "code",
   "execution_count": 13,
   "metadata": {},
   "outputs": [
    {
     "data": {
      "text/plain": [
       "0.21995650182431184"
      ]
     },
     "execution_count": 13,
     "metadata": {},
     "output_type": "execute_result"
    }
   ],
   "source": [
    "kohosom.quantization_error(input_data)"
   ]
  },
  {
   "cell_type": "code",
   "execution_count": 14,
   "metadata": {},
   "outputs": [
    {
     "name": "stdout",
     "output_type": "stream",
     "text": [
      "total iterations  4000\n",
      "num epochs 200\n",
      "Training duration: 0.09937524795532227 seconds\n",
      "10 10 3 200 5.0 0.1\n"
     ]
    },
    {
     "data": {
      "text/plain": [
       "<matplotlib.image.AxesImage at 0x11edcdcd0>"
      ]
     },
     "execution_count": 14,
     "metadata": {},
     "output_type": "execute_result"
    },
    {
     "data": {
      "image/png": "[encoded data removed]",
      "text/plain": [
       "<Figure size 432x288 with 1 Axes>"
      ]
     },
     "metadata": {
      "needs_background": "light"
     },
     "output_type": "display_data"
    }
   ],
   "source": [
    "epochs = 200\n",
    "kohosom2 = msom.SOM(x=x, y=y, num_dim=d, learning_rate=learning_rate, random_seed=42)\n",
    "start_time = time.time()\n",
    "kohosom2.train(input_data, epochs, verbose=False)\n",
    "end_time = time.time()\n",
    "duration = end_time - start_time\n",
    "sigma = kohosom2.sigma\n",
    "learning_rate = kohosom2.learning_rate\n",
    "x, y = kohosom2.map_size\n",
    "print(\"Training duration:\", duration, \"seconds\")\n",
    "print(x,y,d,epochs,sigma,learning_rate)\n",
    "plt.imshow(kohosom2.weights)"
   ]
  },
  {
   "cell_type": "code",
   "execution_count": 15,
   "metadata": {},
   "outputs": [
    {
     "data": {
      "text/plain": [
       "0.18911755691507642"
      ]
     },
     "execution_count": 15,
     "metadata": {},
     "output_type": "execute_result"
    }
   ],
   "source": [
    "kohosom2.quantization_error(input_data)"
   ]
  },
  {
   "cell_type": "code",
   "execution_count": 16,
   "metadata": {},
   "outputs": [
    {
     "name": "stdout",
     "output_type": "stream",
     "text": [
      "total iterations  10000\n",
      "num epochs 500\n",
      "Training duration: 0.22973299026489258 seconds\n",
      "10 10 3 500 5.0 0.1\n"
     ]
    },
    {
     "data": {
      "text/plain": [
       "<matplotlib.image.AxesImage at 0x11ee35490>"
      ]
     },
     "execution_count": 16,
     "metadata": {},
     "output_type": "execute_result"
    },
    {
     "data": {
      "image/png": "[encoded data removed]",
      "text/plain": [
       "<Figure size 432x288 with 1 Axes>"
      ]
     },
     "metadata": {
      "needs_background": "light"
     },
     "output_type": "display_data"
    }
   ],
   "source": [
    "epochs = 500\n",
    "kohosom3 = msom.SOM(x=x, y=y, num_dim=d, learning_rate=learning_rate, random_seed=42)\n",
    "start_time = time.time()\n",
    "kohosom3.train(input_data, epochs, verbose=False)\n",
    "end_time = time.time()\n",
    "duration = end_time - start_time\n",
    "sigma = kohosom3.sigma\n",
    "learning_rate = kohosom3.learning_rate\n",
    "x, y = kohosom3.map_size\n",
    "print(\"Training duration:\", duration, \"seconds\")\n",
    "print(x,y,d,epochs,sigma,learning_rate)\n",
    "plt.imshow(kohosom3.weights)"
   ]
  },
  {
   "cell_type": "code",
   "execution_count": 17,
   "metadata": {},
   "outputs": [
    {
     "data": {
      "text/plain": [
       "0.11138907602945206"
      ]
     },
     "execution_count": 17,
     "metadata": {},
     "output_type": "execute_result"
    }
   ],
   "source": [
    "kohosom3.quantization_error(input_data)"
   ]
  },
  {
   "cell_type": "code",
   "execution_count": 18,
   "metadata": {},
   "outputs": [
    {
     "data": {
      "text/plain": [
       "defaultdict(list,\n",
       "            {(9, 7): [0],\n",
       "             (4, 4): [1],\n",
       "             (4, 8): [2],\n",
       "             (0, 7): [3],\n",
       "             (0, 0): [4, 5],\n",
       "             (5, 0): [6],\n",
       "             (3, 9): [7],\n",
       "             (9, 0): [8, 9],\n",
       "             (2, 0): [10],\n",
       "             (3, 2): [11],\n",
       "             (6, 4): [12],\n",
       "             (9, 9): [13, 18],\n",
       "             (9, 2): [14],\n",
       "             (9, 4): [15],\n",
       "             (0, 9): [16],\n",
       "             (0, 6): [17],\n",
       "             (3, 3): [19]})"
      ]
     },
     "execution_count": 18,
     "metadata": {},
     "output_type": "execute_result"
    }
   ],
   "source": [
    "kohosom3.win_map(input_data, return_indices=True)"
   ]
  },
  {
   "cell_type": "code",
   "execution_count": 19,
   "metadata": {},
   "outputs": [
    {
     "name": "stdout",
     "output_type": "stream",
     "text": [
      "total iterations  20000\n",
      "num epochs 1000\n",
      "Training duration: 8.870233058929443 seconds\n",
      "100 100 3 1000 50.0 0.1\n"
     ]
    },
    {
     "data": {
      "text/plain": [
       "<matplotlib.image.AxesImage at 0x11ee8fa90>"
      ]
     },
     "execution_count": 19,
     "metadata": {},
     "output_type": "execute_result"
    },
    {
     "data": {
      "image/png": "[encoded data removed]",
      "text/plain": [
       "<Figure size 432x288 with 1 Axes>"
      ]
     },
     "metadata": {
      "needs_background": "light"
     },
     "output_type": "display_data"
    }
   ],
   "source": [
    "x = 100\n",
    "y = 100\n",
    "epochs = 1000\n",
    "kohosom4 = msom.SOM(x=x, y=y, num_dim=d, learning_rate=learning_rate, random_seed=42)\n",
    "start_time = time.time()\n",
    "kohosom4.train(input_data, epochs, verbose=False)\n",
    "end_time = time.time()\n",
    "duration = end_time - start_time\n",
    "sigma = kohosom4.sigma\n",
    "learning_rate = kohosom4.learning_rate\n",
    "x, y = kohosom4.map_size\n",
    "print(\"Training duration:\", duration, \"seconds\")\n",
    "print(x,y,d,epochs,sigma,learning_rate)\n",
    "plt.imshow(kohosom4.weights)"
   ]
  },
  {
   "cell_type": "code",
   "execution_count": 20,
   "metadata": {},
   "outputs": [
    {
     "data": {
      "text/plain": [
       "defaultdict(list,\n",
       "            {(40, 0): [0],\n",
       "             (98, 37): [1],\n",
       "             (3, 49): [2],\n",
       "             (0, 99): [3],\n",
       "             (66, 99): [4],\n",
       "             (81, 99): [5],\n",
       "             (99, 97): [6],\n",
       "             (0, 56): [7],\n",
       "             (41, 69): [8],\n",
       "             (0, 23): [9],\n",
       "             (97, 77): [10],\n",
       "             (97, 63): [11],\n",
       "             (99, 5): [12],\n",
       "             (70, 1): [13],\n",
       "             (2, 5): [14],\n",
       "             (14, 0): [15],\n",
       "             (0, 76): [16],\n",
       "             (3, 99): [17],\n",
       "             (45, 1): [18],\n",
       "             (99, 45): [19]})"
      ]
     },
     "execution_count": 20,
     "metadata": {},
     "output_type": "execute_result"
    }
   ],
   "source": [
    "kohosom4.win_map(input_data, return_indices=True)"
   ]
  },
  {
   "cell_type": "code",
   "execution_count": 21,
   "metadata": {},
   "outputs": [
    {
     "data": {
      "text/plain": [
       "0.111163783580611"
      ]
     },
     "execution_count": 21,
     "metadata": {},
     "output_type": "execute_result"
    }
   ],
   "source": [
    "kohosom4.quantization_error(input_data)"
   ]
  },
  {
   "cell_type": "code",
   "execution_count": 22,
   "metadata": {},
   "outputs": [
    {
     "name": "stdout",
     "output_type": "stream",
     "text": [
      "total iterations  10000\n",
      "num epochs 500\n",
      "Training duration: 0.17435097694396973 seconds\n",
      "3 3 3 500 1.5 0.1\n"
     ]
    },
    {
     "data": {
      "text/plain": [
       "<matplotlib.image.AxesImage at 0x11eefa1c0>"
      ]
     },
     "execution_count": 22,
     "metadata": {},
     "output_type": "execute_result"
    },
    {
     "data": {
      "image/png": "[encoded data removed]",
      "text/plain": [
       "<Figure size 432x288 with 1 Axes>"
      ]
     },
     "metadata": {
      "needs_background": "light"
     },
     "output_type": "display_data"
    }
   ],
   "source": [
    "epochs = 500\n",
    "kohosom5 = msom.SOM(x=3, y=3, num_dim=d, learning_rate=learning_rate, random_seed=42)\n",
    "start_time = time.time()\n",
    "kohosom5.train(input_data, epochs, verbose=False)\n",
    "end_time = time.time()\n",
    "duration = end_time - start_time\n",
    "sigma = kohosom5.sigma\n",
    "learning_rate = kohosom5.learning_rate\n",
    "x, y = kohosom5.map_size\n",
    "print(\"Training duration:\", duration, \"seconds\")\n",
    "print(x,y,d,epochs,sigma,learning_rate)\n",
    "plt.imshow(kohosom5.weights)"
   ]
  },
  {
   "cell_type": "code",
   "execution_count": 23,
   "metadata": {},
   "outputs": [
    {
     "name": "stdout",
     "output_type": "stream",
     "text": [
      "[[[0.55794153 0.73421595 0.90004395]\n",
      "  [0.68701643 0.95383317 0.61168179]\n",
      "  [0.83248862 0.93113686 0.49046788]]\n",
      "\n",
      " [[0.87398804 0.31393875 0.7332091 ]\n",
      "  [0.82115085 0.50176916 0.61215266]\n",
      "  [0.85617872 0.57743056 0.07606036]]\n",
      "\n",
      " [[0.28124754 0.05404332 0.76038402]\n",
      "  [0.63175815 0.11261231 0.48901839]\n",
      "  [0.53855108 0.34825438 0.16172409]]]\n"
     ]
    }
   ],
   "source": [
    "print(kohosom5.weights)"
   ]
  },
  {
   "cell_type": "code",
   "execution_count": 25,
   "metadata": {},
   "outputs": [
    {
     "name": "stdout",
     "output_type": "stream",
     "text": [
      "defaultdict(<class 'list'>, {(2, 0): [0, 13, 18], (2, 2): [1, 6, 10, 11, 19], (0, 0): [2, 7, 16], (0, 1): [3], (1, 2): [4, 5], (1, 1): [8], (1, 0): [9, 14], (2, 1): [12, 15], (0, 2): [17]})\n"
     ]
    }
   ],
   "source": [
    "print(kohosom5.win_map(input_data, return_indices=True))"
   ]
  },
  {
   "cell_type": "code",
   "execution_count": null,
   "metadata": {},
   "outputs": [],
   "source": []
  }
 ],
 "metadata": {
  "kernelspec": {
   "display_name": "base",
   "language": "python",
   "name": "python3"
  },
  "language_info": {
   "codemirror_mode": {
    "name": "ipython",
    "version": 3
   },
   "file_extension": ".py",
   "mimetype": "text/x-python",
   "name": "python",
   "nbconvert_exporter": "python",
   "pygments_lexer": "ipython3",
   "version": "3.9.4"
  },
  "orig_nbformat": 4
 },
 "nbformat": 4,
 "nbformat_minor": 2
}
