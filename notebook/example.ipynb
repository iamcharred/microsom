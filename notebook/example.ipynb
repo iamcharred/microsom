{
 "cells": [
  {
   "cell_type": "code",
   "execution_count": 1,
   "metadata": {},
   "outputs": [],
   "source": [
    "import numpy as np\n",
    "import time\n",
    "import sys\n",
    "sys.path.append('../src')\n",
    "import microsom as msom\n"
   ]
  },
  {
   "cell_type": "code",
   "execution_count": 2,
   "metadata": {},
   "outputs": [],
   "source": [
    "random_seed = 40\n",
    "np.random.seed(random_seed)"
   ]
  },
  {
   "cell_type": "code",
   "execution_count": 3,
   "metadata": {},
   "outputs": [
    {
     "data": {
      "text/plain": [
       "array([[0.85888927, 0.37271115, 0.55512878],\n",
       "       [0.95565655, 0.7366696 , 0.81620514],\n",
       "       [0.10108656, 0.92848807, 0.60910917],\n",
       "       [0.59655344, 0.09178413, 0.34518624],\n",
       "       [0.66275252, 0.44171349, 0.55148779],\n",
       "       [0.70371249, 0.58940123, 0.04993276],\n",
       "       [0.56179184, 0.76635847, 0.91090833],\n",
       "       [0.09290995, 0.90252139, 0.46096041],\n",
       "       [0.45201847, 0.99942549, 0.16242374],\n",
       "       [0.70937058, 0.16062408, 0.81077677],\n",
       "       [0.03514717, 0.53488673, 0.16650012],\n",
       "       [0.30841038, 0.04506241, 0.23857613],\n",
       "       [0.67483453, 0.78238275, 0.69520163],\n",
       "       [0.32895445, 0.49403187, 0.52412136],\n",
       "       [0.29854125, 0.46310814, 0.98478429],\n",
       "       [0.50113492, 0.39807245, 0.72790532],\n",
       "       [0.86333097, 0.02616954, 0.29001718],\n",
       "       [0.78906919, 0.45711967, 0.00692848],\n",
       "       [0.41933546, 0.33067476, 0.60415213],\n",
       "       [0.32462084, 0.98125108, 0.58823195]])"
      ]
     },
     "execution_count": 3,
     "metadata": {},
     "output_type": "execute_result"
    }
   ],
   "source": [
    "# Generate Data\n",
    "input_data = np.random.random((20,3))\n",
    "input_data"
   ]
  },
  {
   "cell_type": "markdown",
   "metadata": {},
   "source": [
    "EDA"
   ]
  },
  {
   "cell_type": "code",
   "execution_count": 4,
   "metadata": {},
   "outputs": [
    {
     "data": {
      "text/plain": [
       "<matplotlib.image.AxesImage at 0x11953c370>"
      ]
     },
     "execution_count": 4,
     "metadata": {},
     "output_type": "execute_result"
    },
    {
     "data": {
      "image/png": "[encoded data removed]",
      "text/plain": [
       "<Figure size 432x288 with 1 Axes>"
      ]
     },
     "metadata": {
      "needs_background": "light"
     },
     "output_type": "display_data"
    }
   ],
   "source": [
    "import matplotlib.pyplot as plt\n",
    "plt.imshow(input_data, cmap='hot')"
   ]
  },
  {
   "cell_type": "code",
   "execution_count": 5,
   "metadata": {},
   "outputs": [
    {
     "name": "stdout",
     "output_type": "stream",
     "text": [
      "20\n",
      "3\n"
     ]
    }
   ],
   "source": [
    "n, d = len(input_data), len(input_data[0])\n",
    "print(n)\n",
    "print(d)"
   ]
  },
  {
   "cell_type": "code",
   "execution_count": 6,
   "metadata": {},
   "outputs": [],
   "source": [
    "x = 10\n",
    "y = 10\n",
    "epochs = 100\n",
    "learning_rate = 0.1"
   ]
  },
  {
   "cell_type": "code",
   "execution_count": 7,
   "metadata": {},
   "outputs": [],
   "source": [
    "kohosom = msom.SOM(x=x, y=y, num_dim=d, learning_rate=learning_rate, random_seed=42)"
   ]
  },
  {
   "cell_type": "code",
   "execution_count": 8,
   "metadata": {},
   "outputs": [
    {
     "name": "stdout",
     "output_type": "stream",
     "text": [
      "total iterations  2000\n",
      "num epochs 100\n"
     ]
    }
   ],
   "source": [
    "start_time = time.time()\n",
    "kohosom.train(input_data, epochs, verbose=False)"
   ]
  },
  {
   "cell_type": "code",
   "execution_count": 9,
   "metadata": {},
   "outputs": [
    {
     "name": "stdout",
     "output_type": "stream",
     "text": [
      "Training duration: 0.0810699462890625 seconds\n",
      "10 10 3 100 5.0 0.1\n"
     ]
    }
   ],
   "source": [
    "end_time = time.time()\n",
    "duration = end_time - start_time\n",
    "sigma = kohosom.sigma\n",
    "learning_rate = kohosom.learning_rate\n",
    "x, y = kohosom.map_size\n",
    "print(\"Training duration:\", duration, \"seconds\")\n",
    "print(x,y,d,epochs,sigma,learning_rate)"
   ]
  },
  {
   "cell_type": "code",
   "execution_count": 10,
   "metadata": {},
   "outputs": [],
   "source": [
    "weights = kohosom.weights"
   ]
  },
  {
   "cell_type": "markdown",
   "metadata": {},
   "source": [
    "Visualization"
   ]
  },
  {
   "cell_type": "code",
   "execution_count": 11,
   "metadata": {},
   "outputs": [
    {
     "data": {
      "text/plain": [
       "<matplotlib.image.AxesImage at 0x1196a2280>"
      ]
     },
     "execution_count": 11,
     "metadata": {},
     "output_type": "execute_result"
    },
    {
     "data": {
      "image/png": "[encoded data removed]",
      "text/plain": [
       "<Figure size 432x288 with 1 Axes>"
      ]
     },
     "metadata": {
      "needs_background": "light"
     },
     "output_type": "display_data"
    }
   ],
   "source": [
    "import matplotlib.pyplot as plt\n",
    "plt.imshow(weights)"
   ]
  },
  {
   "cell_type": "code",
   "execution_count": 12,
   "metadata": {},
   "outputs": [],
   "source": [
    "winners = kohosom.win_map(input_data)"
   ]
  },
  {
   "cell_type": "code",
   "execution_count": 13,
   "metadata": {},
   "outputs": [
    {
     "data": {
      "text/plain": [
       "defaultdict(list,\n",
       "            {(1, 1): [array([0.85888927, 0.37271115, 0.55512878])],\n",
       "             (8, 0): [array([0.95565655, 0.7366696 , 0.81620514]),\n",
       "              array([0.67483453, 0.78238275, 0.69520163])],\n",
       "             (9, 7): [array([0.10108656, 0.92848807, 0.60910917]),\n",
       "              array([0.09290995, 0.90252139, 0.46096041])],\n",
       "             (0, 1): [array([0.59655344, 0.09178413, 0.34518624])],\n",
       "             (5, 0): [array([0.66275252, 0.44171349, 0.55148779])],\n",
       "             (1, 8): [array([0.70371249, 0.58940123, 0.04993276])],\n",
       "             (8, 2): [array([0.56179184, 0.76635847, 0.91090833])],\n",
       "             (5, 9): [array([0.45201847, 0.99942549, 0.16242374])],\n",
       "             (0, 3): [array([0.70937058, 0.16062408, 0.81077677])],\n",
       "             (7, 9): [array([0.03514717, 0.53488673, 0.16650012])],\n",
       "             (1, 9): [array([0.30841038, 0.04506241, 0.23857613])],\n",
       "             (6, 7): [array([0.32895445, 0.49403187, 0.52412136])],\n",
       "             (8, 1): [array([0.29854125, 0.46310814, 0.98478429])],\n",
       "             (6, 0): [array([0.50113492, 0.39807245, 0.72790532])],\n",
       "             (0, 4): [array([0.86333097, 0.02616954, 0.29001718])],\n",
       "             (0, 9): [array([0.78906919, 0.45711967, 0.00692848])],\n",
       "             (3, 3): [array([0.41933546, 0.33067476, 0.60415213])],\n",
       "             (8, 5): [array([0.32462084, 0.98125108, 0.58823195])]})"
      ]
     },
     "execution_count": 13,
     "metadata": {},
     "output_type": "execute_result"
    }
   ],
   "source": [
    "winners"
   ]
  },
  {
   "cell_type": "code",
   "execution_count": 14,
   "metadata": {},
   "outputs": [
    {
     "name": "stdout",
     "output_type": "stream",
     "text": [
      "total iterations  4000\n",
      "num epochs 200\n",
      "Training duration: 0.12407612800598145 seconds\n",
      "10 10 3 200 5.0 0.1\n"
     ]
    },
    {
     "data": {
      "text/plain": [
       "<matplotlib.image.AxesImage at 0x11970c550>"
      ]
     },
     "execution_count": 14,
     "metadata": {},
     "output_type": "execute_result"
    },
    {
     "data": {
      "image/png": "[encoded data removed]",
      "text/plain": [
       "<Figure size 432x288 with 1 Axes>"
      ]
     },
     "metadata": {
      "needs_background": "light"
     },
     "output_type": "display_data"
    }
   ],
   "source": [
    "epochs = 200\n",
    "kohosom2 = msom.SOM(x=x, y=y, num_dim=d, learning_rate=learning_rate, random_seed=42)\n",
    "start_time = time.time()\n",
    "kohosom2.train(input_data, epochs, verbose=False)\n",
    "end_time = time.time()\n",
    "duration = end_time - start_time\n",
    "sigma = kohosom2.sigma\n",
    "learning_rate = kohosom2.learning_rate\n",
    "x, y = kohosom2.map_size\n",
    "print(\"Training duration:\", duration, \"seconds\")\n",
    "print(x,y,d,epochs,sigma,learning_rate)\n",
    "weights = kohosom2.weights\n",
    "import matplotlib.pyplot as plt\n",
    "plt.imshow(weights)"
   ]
  },
  {
   "cell_type": "code",
   "execution_count": 15,
   "metadata": {},
   "outputs": [
    {
     "name": "stdout",
     "output_type": "stream",
     "text": [
      "total iterations  10000\n",
      "num epochs 500\n",
      "Training duration: 0.2430877685546875 seconds\n",
      "10 10 3 500 5.0 0.1\n"
     ]
    },
    {
     "data": {
      "text/plain": [
       "<matplotlib.image.AxesImage at 0x11976b700>"
      ]
     },
     "execution_count": 15,
     "metadata": {},
     "output_type": "execute_result"
    },
    {
     "data": {
      "image/png": "[encoded data removed]",
      "text/plain": [
       "<Figure size 432x288 with 1 Axes>"
      ]
     },
     "metadata": {
      "needs_background": "light"
     },
     "output_type": "display_data"
    }
   ],
   "source": [
    "epochs = 500\n",
    "kohosom3 = msom.SOM(x=x, y=y, num_dim=d, learning_rate=learning_rate, random_seed=42)\n",
    "start_time = time.time()\n",
    "kohosom3.train(input_data, epochs, verbose=False)\n",
    "end_time = time.time()\n",
    "duration = end_time - start_time\n",
    "sigma = kohosom3.sigma\n",
    "learning_rate = kohosom3.learning_rate\n",
    "x, y = kohosom3.map_size\n",
    "print(\"Training duration:\", duration, \"seconds\")\n",
    "print(x,y,d,epochs,sigma,learning_rate)\n",
    "weights = kohosom3.weights\n",
    "import matplotlib.pyplot as plt\n",
    "plt.imshow(weights)"
   ]
  },
  {
   "cell_type": "code",
   "execution_count": 16,
   "metadata": {},
   "outputs": [
    {
     "name": "stdout",
     "output_type": "stream",
     "text": [
      "total iterations  20000\n",
      "num epochs 1000\n",
      "Training duration: 9.940598011016846 seconds\n",
      "100 100 3 1000 50.0 0.1\n"
     ]
    },
    {
     "data": {
      "text/plain": [
       "<matplotlib.image.AxesImage at 0x1197cc670>"
      ]
     },
     "execution_count": 16,
     "metadata": {},
     "output_type": "execute_result"
    },
    {
     "data": {
      "image/png": "[encoded data removed]",
      "text/plain": [
       "<Figure size 432x288 with 1 Axes>"
      ]
     },
     "metadata": {
      "needs_background": "light"
     },
     "output_type": "display_data"
    }
   ],
   "source": [
    "x = 100\n",
    "y = 100\n",
    "epochs = 1000\n",
    "kohosom4 = msom.SOM(x=x, y=y, num_dim=d, learning_rate=learning_rate, random_seed=42)\n",
    "start_time = time.time()\n",
    "kohosom4.train(input_data, epochs, verbose=False)\n",
    "end_time = time.time()\n",
    "duration = end_time - start_time\n",
    "sigma = kohosom4.sigma\n",
    "learning_rate = kohosom4.learning_rate\n",
    "x, y = kohosom4.map_size\n",
    "print(\"Training duration:\", duration, \"seconds\")\n",
    "print(x,y,d,epochs,sigma,learning_rate)\n",
    "weights = kohosom4.weights\n",
    "import matplotlib.pyplot as plt\n",
    "plt.imshow(weights)"
   ]
  },
  {
   "cell_type": "code",
   "execution_count": 17,
   "metadata": {},
   "outputs": [],
   "source": [
    "kohosom4.pickle_model('../models/kohosom4.pkl')"
   ]
  },
  {
   "cell_type": "code",
   "execution_count": 18,
   "metadata": {},
   "outputs": [
    {
     "data": {
      "text/plain": [
       "(100, 100)"
      ]
     },
     "execution_count": 18,
     "metadata": {},
     "output_type": "execute_result"
    }
   ],
   "source": [
    "import pickle\n",
    "with open('../models/kohosom4.pkl', 'rb') as f:\n",
    "    loaded_model = pickle.load(f)\n",
    "loaded_model.map_size"
   ]
  }
 ],
 "metadata": {
  "kernelspec": {
   "display_name": "base",
   "language": "python",
   "name": "python3"
  },
  "language_info": {
   "codemirror_mode": {
    "name": "ipython",
    "version": 3
   },
   "file_extension": ".py",
   "mimetype": "text/x-python",
   "name": "python",
   "nbconvert_exporter": "python",
   "pygments_lexer": "ipython3",
   "version": "3.9.4"
  },
  "orig_nbformat": 4
 },
 "nbformat": 4,
 "nbformat_minor": 2
}
