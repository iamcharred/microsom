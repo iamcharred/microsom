{
 "cells": [
  {
   "cell_type": "code",
   "execution_count": 1,
   "metadata": {},
   "outputs": [],
   "source": [
    "import numpy as np\n",
    "import time\n",
    "import microsom as msom"
   ]
  },
  {
   "cell_type": "code",
   "execution_count": 2,
   "metadata": {},
   "outputs": [],
   "source": [
    "random_seed = 40\n",
    "np.random.seed(random_seed)"
   ]
  },
  {
   "cell_type": "code",
   "execution_count": 3,
   "metadata": {},
   "outputs": [
    {
     "data": {
      "text/plain": [
       "array([[0.40768703, 0.05536604, 0.78853488],\n",
       "       [0.28730518, 0.45035059, 0.30391231],\n",
       "       [0.52639952, 0.62381221, 0.77677546],\n",
       "       [0.68624165, 0.98093886, 0.60081609],\n",
       "       [0.81396852, 0.70864515, 0.02753468],\n",
       "       [0.90426722, 0.44990485, 0.11892465],\n",
       "       [0.83530018, 0.20224823, 0.17420267],\n",
       "       [0.44914708, 0.66979478, 0.95739911],\n",
       "       [0.83333325, 0.50830996, 0.63002355],\n",
       "       [0.83503469, 0.44733165, 0.76229047],\n",
       "       [0.63692224, 0.36229589, 0.01457455],\n",
       "       [0.54198489, 0.31815548, 0.14499035],\n",
       "       [0.54889195, 0.18748127, 0.39898148],\n",
       "       [0.24003821, 0.03665485, 0.56854476],\n",
       "       [0.9227648 , 0.17905511, 0.70307767],\n",
       "       [0.7200128 , 0.03106402, 0.58282531],\n",
       "       [0.6976776 , 0.90985347, 0.96669799],\n",
       "       [0.83572953, 0.95112137, 0.50632553],\n",
       "       [0.19449838, 0.06964475, 0.92579567],\n",
       "       [0.39132648, 0.40817073, 0.17090505]])"
      ]
     },
     "execution_count": 3,
     "metadata": {},
     "output_type": "execute_result"
    }
   ],
   "source": [
    "# Generate Data\n",
    "input_data = np.random.random((20,3))\n",
    "input_data"
   ]
  },
  {
   "cell_type": "markdown",
   "metadata": {},
   "source": [
    "EDA"
   ]
  },
  {
   "cell_type": "code",
   "execution_count": 4,
   "metadata": {},
   "outputs": [
    {
     "data": {
      "text/plain": [
       "<matplotlib.image.AxesImage at 0x1141bf250>"
      ]
     },
     "execution_count": 4,
     "metadata": {},
     "output_type": "execute_result"
    },
    {
     "data": {
      "image/png": "[encoded data removed]",
      "text/plain": [
       "<Figure size 432x288 with 1 Axes>"
      ]
     },
     "metadata": {
      "needs_background": "light"
     },
     "output_type": "display_data"
    }
   ],
   "source": [
    "import matplotlib.pyplot as plt\n",
    "plt.imshow(input_data, cmap='hot')"
   ]
  },
  {
   "cell_type": "code",
   "execution_count": 5,
   "metadata": {},
   "outputs": [
    {
     "name": "stdout",
     "output_type": "stream",
     "text": [
      "20\n",
      "3\n"
     ]
    }
   ],
   "source": [
    "n, d = len(input_data), len(input_data[0])\n",
    "print(n)\n",
    "print(d)"
   ]
  },
  {
   "cell_type": "code",
   "execution_count": 6,
   "metadata": {},
   "outputs": [],
   "source": [
    "x = 10\n",
    "y = 10\n",
    "epochs = 100\n",
    "learning_rate = 0.1"
   ]
  },
  {
   "cell_type": "code",
   "execution_count": 7,
   "metadata": {},
   "outputs": [],
   "source": [
    "kohosom = msom.SOM(x=x, y=y, num_dim=d, learning_rate=learning_rate, random_seed=42)"
   ]
  },
  {
   "cell_type": "code",
   "execution_count": 8,
   "metadata": {},
   "outputs": [
    {
     "name": "stdout",
     "output_type": "stream",
     "text": [
      "total iterations  2000\n",
      "num epochs 100\n"
     ]
    }
   ],
   "source": [
    "start_time = time.time()\n",
    "kohosom.train(input_data, epochs, verbose=False)"
   ]
  },
  {
   "cell_type": "code",
   "execution_count": 9,
   "metadata": {},
   "outputs": [
    {
     "name": "stdout",
     "output_type": "stream",
     "text": [
      "Training duration: 0.6454000473022461 seconds\n",
      "10 10 3 100 5.0 0.1\n"
     ]
    }
   ],
   "source": [
    "end_time = time.time()\n",
    "duration = end_time - start_time\n",
    "sigma = kohosom.sigma\n",
    "learning_rate = kohosom.learning_rate\n",
    "x, y = kohosom.map_size\n",
    "print(\"Training duration:\", duration, \"seconds\")\n",
    "print(x,y,d,epochs,sigma,learning_rate)"
   ]
  },
  {
   "cell_type": "code",
   "execution_count": 10,
   "metadata": {},
   "outputs": [],
   "source": [
    "weights = kohosom.weights"
   ]
  },
  {
   "cell_type": "markdown",
   "metadata": {},
   "source": [
    "Visualization"
   ]
  },
  {
   "cell_type": "code",
   "execution_count": 11,
   "metadata": {},
   "outputs": [
    {
     "data": {
      "text/plain": [
       "<matplotlib.image.AxesImage at 0x114418f70>"
      ]
     },
     "execution_count": 11,
     "metadata": {},
     "output_type": "execute_result"
    },
    {
     "data": {
      "image/png": "[encoded data removed]",
      "text/plain": [
       "<Figure size 432x288 with 1 Axes>"
      ]
     },
     "metadata": {
      "needs_background": "light"
     },
     "output_type": "display_data"
    }
   ],
   "source": [
    "import matplotlib.pyplot as plt\n",
    "plt.imshow(weights)"
   ]
  },
  {
   "cell_type": "code",
   "execution_count": 12,
   "metadata": {},
   "outputs": [],
   "source": [
    "winners = kohosom.win_map(input_data)"
   ]
  },
  {
   "cell_type": "code",
   "execution_count": 13,
   "metadata": {},
   "outputs": [
    {
     "data": {
      "text/plain": [
       "defaultdict(list,\n",
       "            {(6, 7): [array([0.40768703, 0.05536604, 0.78853488]),\n",
       "              array([0.24003821, 0.03665485, 0.56854476]),\n",
       "              array([0.19449838, 0.06964475, 0.92579567])],\n",
       "             (9, 9): [array([0.28730518, 0.45035059, 0.30391231]),\n",
       "              array([0.39132648, 0.40817073, 0.17090505])],\n",
       "             (1, 7): [array([0.52639952, 0.62381221, 0.77677546]),\n",
       "              array([0.44914708, 0.66979478, 0.95739911]),\n",
       "              array([0.6976776 , 0.90985347, 0.96669799])],\n",
       "             (0, 0): [array([0.68624165, 0.98093886, 0.60081609])],\n",
       "             (4, 0): [array([0.81396852, 0.70864515, 0.02753468])],\n",
       "             (5, 0): [array([0.90426722, 0.44990485, 0.11892465]),\n",
       "              array([0.83530018, 0.20224823, 0.17420267])],\n",
       "             (8, 0): [array([0.83333325, 0.50830996, 0.63002355])],\n",
       "             (9, 0): [array([0.83503469, 0.44733165, 0.76229047])],\n",
       "             (1, 0): [array([0.63692224, 0.36229589, 0.01457455])],\n",
       "             (4, 1): [array([0.54198489, 0.31815548, 0.14499035])],\n",
       "             (6, 9): [array([0.54889195, 0.18748127, 0.39898148])],\n",
       "             (8, 1): [array([0.9227648 , 0.17905511, 0.70307767])],\n",
       "             (8, 7): [array([0.7200128 , 0.03106402, 0.58282531])],\n",
       "             (1, 1): [array([0.83572953, 0.95112137, 0.50632553])]})"
      ]
     },
     "execution_count": 13,
     "metadata": {},
     "output_type": "execute_result"
    }
   ],
   "source": [
    "winners"
   ]
  },
  {
   "cell_type": "code",
   "execution_count": 14,
   "metadata": {},
   "outputs": [
    {
     "name": "stdout",
     "output_type": "stream",
     "text": [
      "total iterations  4000\n",
      "num epochs 200\n",
      "Training duration: 1.2809538841247559 seconds\n",
      "10 10 3 200 5.0 0.1\n"
     ]
    },
    {
     "data": {
      "text/plain": [
       "<matplotlib.image.AxesImage at 0x114485e50>"
      ]
     },
     "execution_count": 14,
     "metadata": {},
     "output_type": "execute_result"
    },
    {
     "data": {
      "image/png": "[encoded data removed]",
      "text/plain": [
       "<Figure size 432x288 with 1 Axes>"
      ]
     },
     "metadata": {
      "needs_background": "light"
     },
     "output_type": "display_data"
    }
   ],
   "source": [
    "epochs = 200\n",
    "kohosom2 = msom.SOM(x=x, y=y, num_dim=d, learning_rate=learning_rate, random_seed=42)\n",
    "start_time = time.time()\n",
    "kohosom2.train(input_data, epochs, verbose=False)\n",
    "end_time = time.time()\n",
    "duration = end_time - start_time\n",
    "sigma = kohosom2.sigma\n",
    "learning_rate = kohosom2.learning_rate\n",
    "x, y = kohosom2.map_size\n",
    "print(\"Training duration:\", duration, \"seconds\")\n",
    "print(x,y,d,epochs,sigma,learning_rate)\n",
    "weights = kohosom2.weights\n",
    "import matplotlib.pyplot as plt\n",
    "plt.imshow(weights)"
   ]
  },
  {
   "cell_type": "code",
   "execution_count": 15,
   "metadata": {},
   "outputs": [
    {
     "name": "stdout",
     "output_type": "stream",
     "text": [
      "total iterations  10000\n",
      "num epochs 500\n",
      "Training duration: 3.048267126083374 seconds\n",
      "10 10 3 500 5.0 0.1\n"
     ]
    },
    {
     "data": {
      "text/plain": [
       "<matplotlib.image.AxesImage at 0x1144f2310>"
      ]
     },
     "execution_count": 15,
     "metadata": {},
     "output_type": "execute_result"
    },
    {
     "data": {
      "image/png": "[encoded data removed]",
      "text/plain": [
       "<Figure size 432x288 with 1 Axes>"
      ]
     },
     "metadata": {
      "needs_background": "light"
     },
     "output_type": "display_data"
    }
   ],
   "source": [
    "epochs = 500\n",
    "kohosom3 = msom.SOM(x=x, y=y, num_dim=d, learning_rate=learning_rate, random_seed=42)\n",
    "start_time = time.time()\n",
    "kohosom3.train(input_data, epochs, verbose=False)\n",
    "end_time = time.time()\n",
    "duration = end_time - start_time\n",
    "sigma = kohosom3.sigma\n",
    "learning_rate = kohosom3.learning_rate\n",
    "x, y = kohosom3.map_size\n",
    "print(\"Training duration:\", duration, \"seconds\")\n",
    "print(x,y,d,epochs,sigma,learning_rate)\n",
    "weights = kohosom3.weights\n",
    "import matplotlib.pyplot as plt\n",
    "plt.imshow(weights)"
   ]
  },
  {
   "cell_type": "code",
   "execution_count": 16,
   "metadata": {},
   "outputs": [
    {
     "name": "stdout",
     "output_type": "stream",
     "text": [
      "total iterations  20000\n",
      "num epochs 1000\n",
      "Training duration: 565.7791197299957 seconds\n",
      "100 100 3 1000 50.0 0.1\n"
     ]
    },
    {
     "data": {
      "text/plain": [
       "<matplotlib.image.AxesImage at 0x11454e5b0>"
      ]
     },
     "execution_count": 16,
     "metadata": {},
     "output_type": "execute_result"
    },
    {
     "data": {
      "image/png": "[encoded data removed]",
      "text/plain": [
       "<Figure size 432x288 with 1 Axes>"
      ]
     },
     "metadata": {
      "needs_background": "light"
     },
     "output_type": "display_data"
    }
   ],
   "source": [
    "x = 100\n",
    "y = 100\n",
    "epochs = 1000\n",
    "kohosom4 = msom.SOM(x=x, y=y, num_dim=d, learning_rate=learning_rate, random_seed=42)\n",
    "start_time = time.time()\n",
    "kohosom4.train(input_data, epochs, verbose=False)\n",
    "end_time = time.time()\n",
    "duration = end_time - start_time\n",
    "sigma = kohosom4.sigma\n",
    "learning_rate = kohosom4.learning_rate\n",
    "x, y = kohosom4.map_size\n",
    "print(\"Training duration:\", duration, \"seconds\")\n",
    "print(x,y,d,epochs,sigma,learning_rate)\n",
    "weights = kohosom4.weights\n",
    "import matplotlib.pyplot as plt\n",
    "plt.imshow(weights)"
   ]
  },
  {
   "cell_type": "code",
   "execution_count": 17,
   "metadata": {},
   "outputs": [],
   "source": [
    "kohosom4.pickle_model('kohosom4.pkl')"
   ]
  },
  {
   "cell_type": "code",
   "execution_count": 18,
   "metadata": {},
   "outputs": [],
   "source": [
    "import pickle"
   ]
  },
  {
   "cell_type": "code",
   "execution_count": 19,
   "metadata": {},
   "outputs": [],
   "source": [
    "with open('kohosom4.pkl', 'rb') as f:\n",
    "    loaded_model = pickle.load(f)"
   ]
  },
  {
   "cell_type": "code",
   "execution_count": 20,
   "metadata": {},
   "outputs": [
    {
     "data": {
      "text/plain": [
       "(100, 100)"
      ]
     },
     "execution_count": 20,
     "metadata": {},
     "output_type": "execute_result"
    }
   ],
   "source": [
    "loaded_model.map_size"
   ]
  },
  {
   "cell_type": "code",
   "execution_count": 21,
   "metadata": {},
   "outputs": [],
   "source": [
    "import torch"
   ]
  },
  {
   "cell_type": "code",
   "execution_count": 28,
   "metadata": {},
   "outputs": [
    {
     "ename": "AttributeError",
     "evalue": "'SOM' object has no attribute 'torch_train'",
     "output_type": "error",
     "traceback": [
      "\u001b[0;31m---------------------------------------------------------------------------\u001b[0m",
      "\u001b[0;31mAttributeError\u001b[0m                            Traceback (most recent call last)",
      "\u001b[0;32m/var/folders/8x/zwstrksd06qb4tnpwvh14l380000gn/T/ipykernel_95234/2925205766.py\u001b[0m in \u001b[0;36m<module>\u001b[0;34m\u001b[0m\n\u001b[1;32m      1\u001b[0m \u001b[0mkohosom4\u001b[0m \u001b[0;34m=\u001b[0m \u001b[0mmsom\u001b[0m\u001b[0;34m.\u001b[0m\u001b[0mSOM\u001b[0m\u001b[0;34m(\u001b[0m\u001b[0mx\u001b[0m\u001b[0;34m=\u001b[0m\u001b[0mx\u001b[0m\u001b[0;34m,\u001b[0m \u001b[0my\u001b[0m\u001b[0;34m=\u001b[0m\u001b[0my\u001b[0m\u001b[0;34m,\u001b[0m \u001b[0mnum_dim\u001b[0m\u001b[0;34m=\u001b[0m\u001b[0md\u001b[0m\u001b[0;34m,\u001b[0m \u001b[0mlearning_rate\u001b[0m\u001b[0;34m=\u001b[0m\u001b[0mlearning_rate\u001b[0m\u001b[0;34m,\u001b[0m \u001b[0mrandom_seed\u001b[0m\u001b[0;34m=\u001b[0m\u001b[0;36m42\u001b[0m\u001b[0;34m)\u001b[0m\u001b[0;34m\u001b[0m\u001b[0;34m\u001b[0m\u001b[0m\n\u001b[0;32m----> 2\u001b[0;31m \u001b[0mkohosom4\u001b[0m\u001b[0;34m.\u001b[0m\u001b[0mtorch_train\u001b[0m\u001b[0;34m(\u001b[0m\u001b[0minput_data\u001b[0m\u001b[0;34m,\u001b[0m \u001b[0mepochs\u001b[0m\u001b[0;34m,\u001b[0m \u001b[0mverbose\u001b[0m\u001b[0;34m=\u001b[0m\u001b[0;32mFalse\u001b[0m\u001b[0;34m)\u001b[0m\u001b[0;34m\u001b[0m\u001b[0;34m\u001b[0m\u001b[0m\n\u001b[0m",
      "\u001b[0;31mAttributeError\u001b[0m: 'SOM' object has no attribute 'torch_train'"
     ]
    }
   ],
   "source": [
    "kohosom4 = msom.SOM(x=x, y=y, num_dim=d, learning_rate=learning_rate, random_seed=42)\n",
    "kohosom4.torch_train(input_data, epochs, verbose=False)\n"
   ]
  },
  {
   "cell_type": "code",
   "execution_count": null,
   "metadata": {},
   "outputs": [],
   "source": []
  }
 ],
 "metadata": {
  "kernelspec": {
   "display_name": "base",
   "language": "python",
   "name": "python3"
  },
  "language_info": {
   "codemirror_mode": {
    "name": "ipython",
    "version": 3
   },
   "file_extension": ".py",
   "mimetype": "text/x-python",
   "name": "python",
   "nbconvert_exporter": "python",
   "pygments_lexer": "ipython3",
   "version": "3.9.4"
  },
  "orig_nbformat": 4
 },
 "nbformat": 4,
 "nbformat_minor": 2
}
