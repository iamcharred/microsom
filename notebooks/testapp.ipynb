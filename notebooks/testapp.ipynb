{
 "cells": [
  {
   "cell_type": "code",
   "execution_count": 1,
   "metadata": {},
   "outputs": [],
   "source": [
    "import requests\n",
    "import json\n",
    "\n"
   ]
  },
  {
   "cell_type": "code",
   "execution_count": 2,
   "metadata": {},
   "outputs": [
    {
     "name": "stdout",
     "output_type": "stream",
     "text": [
      "[99, 45]\n"
     ]
    }
   ],
   "source": [
    "headers = {'Content-Type': 'application/json'}  # set header\n",
    "data = {'input': '0.39132648, 0.40817073, 0.17090505'}  # your data\n",
    "response = requests.post('http://127.0.0.1:5000/api/predict', headers=headers, data=json.dumps(data))\n",
    "print(response.json())"
   ]
  },
  {
   "cell_type": "code",
   "execution_count": 3,
   "metadata": {},
   "outputs": [
    {
     "name": "stdout",
     "output_type": "stream",
     "text": [
      "[40, 0]\n"
     ]
    }
   ],
   "source": [
    "headers = {'Content-Type': 'application/json'}  # set header\n",
    "data = {'input': '0.40768703, 0.05536604, 0.78853488'}  # your data\n",
    "response = requests.post('http://127.0.0.1:5000/api/predict', headers=headers, data=json.dumps(data))\n",
    "print(response.json())"
   ]
  },
  {
   "cell_type": "code",
   "execution_count": 4,
   "metadata": {},
   "outputs": [],
   "source": [
    "#curl -X POST -H \"Content-Type: application/json\" -d '{\"input\": \"0.39132648, 0.40817073, 0.17090505\"}' http://127.0.0.1:5000/api/predict\n"
   ]
  },
  {
   "cell_type": "code",
   "execution_count": 7,
   "metadata": {},
   "outputs": [
    {
     "name": "stdout",
     "output_type": "stream",
     "text": [
      "<Response [200]>\n"
     ]
    }
   ],
   "source": [
    "response = requests.get('http://127.0.0.1:5000/api/weights', headers=headers)\n",
    "print(response)"
   ]
  },
  {
   "cell_type": "code",
   "execution_count": null,
   "metadata": {},
   "outputs": [],
   "source": [
    "# curl -X GET -H \"Content-Type: application/json\" http://127.0.0.1:5000/api/weights"
   ]
  }
 ],
 "metadata": {
  "kernelspec": {
   "display_name": "base",
   "language": "python",
   "name": "python3"
  },
  "language_info": {
   "codemirror_mode": {
    "name": "ipython",
    "version": 3
   },
   "file_extension": ".py",
   "mimetype": "text/x-python",
   "name": "python",
   "nbconvert_exporter": "python",
   "pygments_lexer": "ipython3",
   "version": "3.9.4"
  }
 },
 "nbformat": 4,
 "nbformat_minor": 2
}
